{
  "nbformat": 4,
  "nbformat_minor": 0,
  "metadata": {
    "colab": {
      "provenance": [],
      "toc_visible": true,
      "include_colab_link": true
    },
    "kernelspec": {
      "name": "python3",
      "display_name": "Python 3"
    }
  },
  "cells": [
    {
      "cell_type": "markdown",
      "metadata": {
        "id": "view-in-github",
        "colab_type": "text"
      },
      "source": [
        "<a href=\"https://colab.research.google.com/github/stopsilver831/02_V.D.O/blob/main/_02_%EB%B3%80%EC%88%98%2C_%EC%9E%90%EB%A3%8C%ED%98%95%2C_%EC%97%B0%EC%82%B0%EC%9E%90_20240516.ipynb\" target=\"_parent\"><img src=\"https://colab.research.google.com/assets/colab-badge.svg\" alt=\"Open In Colab\"/></a>"
      ]
    },
    {
      "cell_type": "markdown",
      "metadata": {
        "id": "6XGDdKnJyGJF"
      },
      "source": [
        "# 변수, 자료형, 연산자\n",
        "\n"
      ]
    },
    {
      "cell_type": "markdown",
      "metadata": {
        "id": "HAstuUfPCTnB"
      },
      "source": [
        "\n",
        "\n",
        "---\n",
        "\n"
      ]
    },
    {
      "cell_type": "markdown",
      "metadata": {
        "id": "90qvtJp_yMg4"
      },
      "source": [
        "\n",
        "## 변수(Variables)"
      ]
    },
    {
      "cell_type": "code",
      "metadata": {
        "id": "Wnq3OFyHy3FV",
        "colab": {
          "base_uri": "https://localhost:8080/"
        },
        "outputId": "5fb3822f-7830-4fad-c23a-f856994eb4fb"
      },
      "source": [
        "name=\"jieun\"\n",
        "print(name)\n",
        "num=123\n",
        "print(num)"
      ],
      "execution_count": 1,
      "outputs": [
        {
          "output_type": "stream",
          "name": "stdout",
          "text": [
            "jieun\n",
            "123\n"
          ]
        }
      ]
    },
    {
      "cell_type": "markdown",
      "metadata": {
        "id": "RJfm_0kbyZih"
      },
      "source": [
        "### 변수명 규칙\n"
      ]
    },
    {
      "cell_type": "code",
      "metadata": {
        "id": "SPyXej-mys0A",
        "colab": {
          "base_uri": "https://localhost:8080/"
        },
        "outputId": "a5733d68-bd62-4cef-8fa7-2eaa97a7af5d"
      },
      "source": [
        "abc=\"abc\"\n",
        "abc_123=123\n",
        "Abc_123=123\n",
        "print(abc)\n",
        "print(abc_123)\n",
        "print(Abc_123)"
      ],
      "execution_count": 2,
      "outputs": [
        {
          "output_type": "stream",
          "name": "stdout",
          "text": [
            "abc\n",
            "123\n",
            "123\n"
          ]
        }
      ]
    },
    {
      "cell_type": "markdown",
      "metadata": {
        "id": "IzVR_OF3CV7l"
      },
      "source": [
        "\n",
        "\n",
        "---\n",
        "\n"
      ]
    },
    {
      "cell_type": "markdown",
      "metadata": {
        "id": "UnmfTSSR7gI8"
      },
      "source": [
        "## 자료형(Data Types)\n",
        "\n"
      ]
    },
    {
      "cell_type": "markdown",
      "metadata": {
        "id": "E6w1S0AG7093"
      },
      "source": [
        "### 불리언형 자료형(Boolean Type)\n",
        "\n",
        "* 불리언은 `True`와 `False` 값으로만 표현할 때 사용하는 자료형\n",
        "* 예제 코드에서 변수 `b`에 `True` 값을 넣으면 불리언 자료형으로 결정\n",
        "* 자료형을 반환하는 내장함수 `type()` 함수를 이용하여 자료형을 확인하면 `bool`로 반환된 결과를 볼 수 있음"
      ]
    },
    {
      "cell_type": "code",
      "metadata": {
        "id": "VEmJO0Hl7uSL",
        "colab": {
          "base_uri": "https://localhost:8080/"
        },
        "outputId": "e3ca71c7-5496-4906-c333-939af5789fc0"
      },
      "source": [
        "b=True\n",
        "print(b)\n",
        "print(type(b))"
      ],
      "execution_count": 3,
      "outputs": [
        {
          "output_type": "stream",
          "name": "stdout",
          "text": [
            "True\n",
            "<class 'bool'>\n"
          ]
        }
      ]
    },
    {
      "cell_type": "markdown",
      "metadata": {
        "id": "zEQ7zJg8aafd"
      },
      "source": [
        "### 정수형 자료형(Integer Type)"
      ]
    },
    {
      "cell_type": "markdown",
      "metadata": {
        "id": "QyQdYV_If3kQ"
      },
      "source": [
        "#### 10진수(Decimal)\n",
        "\n",
        "* 10진수는 일반적인 숫자 표현을 그대로 사용\n",
        "* 변수 `i`에 10진수로 숫자 10을 값으로 넣고, `type()` 함수를 통해 자료형을 확인하기\n"
      ]
    },
    {
      "cell_type": "code",
      "metadata": {
        "id": "Mt5AV2bR8NFr",
        "colab": {
          "base_uri": "https://localhost:8080/"
        },
        "outputId": "be8c20a9-859a-4aab-d0cc-a53551ef95f9"
      },
      "source": [
        "e=10\n",
        "print(e)\n",
        "print(type(e))"
      ],
      "execution_count": 4,
      "outputs": [
        {
          "output_type": "stream",
          "name": "stdout",
          "text": [
            "10\n",
            "<class 'int'>\n"
          ]
        }
      ]
    },
    {
      "cell_type": "markdown",
      "metadata": {
        "id": "oXUZbCF_z4ks"
      },
      "source": [
        "#### 2진수(Binary)\n",
        "\n",
        "* 2진수는 앞에 `0b`를 붙여서 표현\n",
        "* 변수 `b`에 2진수 표현으로 `0b010`을 넣고, `type()` 함수를 통해 자료형을 확인하기"
      ]
    },
    {
      "cell_type": "code",
      "metadata": {
        "id": "xxmW8Xp0u01Q",
        "colab": {
          "base_uri": "https://localhost:8080/"
        },
        "outputId": "16ef1992-7ed3-49a7-93d0-ec664f4d9a28"
      },
      "source": [
        "b=0b010\n",
        "print(b)\n",
        "print(type(b))"
      ],
      "execution_count": 5,
      "outputs": [
        {
          "output_type": "stream",
          "name": "stdout",
          "text": [
            "2\n",
            "<class 'int'>\n"
          ]
        }
      ]
    },
    {
      "cell_type": "markdown",
      "metadata": {
        "id": "uWuYvhlMz-pL"
      },
      "source": [
        "#### 8진수(Octal)\n",
        "\n",
        "* 8진수는 앞에 `0o`를 붙여서 표현\n",
        "* 변수 `o`에 8진수 표현으로 `0o130`을 넣고 확인하기"
      ]
    },
    {
      "cell_type": "code",
      "metadata": {
        "id": "uS9NsK2ZYU8l",
        "colab": {
          "base_uri": "https://localhost:8080/"
        },
        "outputId": "30ecf48d-e071-4ad0-c25c-cd17e005f34a"
      },
      "source": [
        "o=0o130\n",
        "print(o)\n",
        "print(type(o))"
      ],
      "execution_count": 6,
      "outputs": [
        {
          "output_type": "stream",
          "name": "stdout",
          "text": [
            "88\n",
            "<class 'int'>\n"
          ]
        }
      ]
    },
    {
      "cell_type": "markdown",
      "metadata": {
        "id": "ObGeQFIA0CfR"
      },
      "source": [
        "#### 16진수(Hexadecimal)\n",
        "\n",
        "* 16진수은 앞에 `0x`를 붙여서 표현\n",
        "* 변수 `h`에 16진수 표현으로 `0xABC`를 넣고 확인하기\n",
        "* 16진수는 10진수와 달리 10부터 A에서 F까지 알파벳을 사용하여 표현"
      ]
    },
    {
      "cell_type": "code",
      "metadata": {
        "id": "t6AMAPRLYVHG",
        "colab": {
          "base_uri": "https://localhost:8080/"
        },
        "outputId": "091e43b6-b098-41c8-b5e2-58acdeb1ad6e"
      },
      "source": [
        "h=0xABC\n",
        "print(h)\n",
        "print(type(h))"
      ],
      "execution_count": 7,
      "outputs": [
        {
          "output_type": "stream",
          "name": "stdout",
          "text": [
            "2748\n",
            "<class 'int'>\n"
          ]
        }
      ]
    },
    {
      "cell_type": "markdown",
      "metadata": {
        "id": "ExS5VLXYgC0K"
      },
      "source": [
        "### 실수형 자료형(Floating-Point Type)\n",
        "\n",
        "* 실수형 자료형 표현은 고정소수점과 부동소수점으로 구분"
      ]
    },
    {
      "cell_type": "markdown",
      "metadata": {
        "id": "o9wEy__Akh68"
      },
      "source": [
        "#### 고정소수점(Fixed-Point)\n",
        "\n",
        "* 기본적으로 고정된 자리수의 소수를 사용하는 고정소수점 방식\n",
        "* 실수형 변수 `f`에 소수점이 포함된 `12.34` 값을 넣고 확인하기\n",
        "* `type(f)`를 통해서 결과를 확인해보면 실수형(float) 자료형으로 출력\n",
        "* 파이썬에서는 소수에서 정수부가 0인 경우에는 제외해서 표현 가능\n",
        "* 코드에서 값 `.123`은 `0.123`을 의미"
      ]
    },
    {
      "cell_type": "code",
      "metadata": {
        "id": "zRx3Lg_soF-d",
        "colab": {
          "base_uri": "https://localhost:8080/"
        },
        "outputId": "d08b18c9-69eb-4975-ffb6-9ec3b20e8082"
      },
      "source": [
        "f=12.34\n",
        "print(f)\n",
        "print(type(f))"
      ],
      "execution_count": 8,
      "outputs": [
        {
          "output_type": "stream",
          "name": "stdout",
          "text": [
            "12.34\n",
            "<class 'float'>\n"
          ]
        }
      ]
    },
    {
      "cell_type": "code",
      "metadata": {
        "id": "YLdTH0EtgupN",
        "colab": {
          "base_uri": "https://localhost:8080/",
          "height": 54
        },
        "outputId": "f52cc324-bcbe-49ea-9e40-58c7e88fc7e0"
      },
      "source": [
        "f=.123\n",
        "print(f)\n",
        "\"Tip: 0이하의 소수점에서 0은 생략해도 실수로 인식함\""
      ],
      "execution_count": 9,
      "outputs": [
        {
          "output_type": "stream",
          "name": "stdout",
          "text": [
            "0.123\n"
          ]
        },
        {
          "output_type": "execute_result",
          "data": {
            "text/plain": [
              "'Tip: 0이하의 소수점에서 0은 생략해도 실수로 인식함'"
            ],
            "application/vnd.google.colaboratory.intrinsic+json": {
              "type": "string"
            }
          },
          "metadata": {},
          "execution_count": 9
        }
      ]
    },
    {
      "cell_type": "markdown",
      "metadata": {
        "id": "NSsefZL8hx83"
      },
      "source": [
        "#### 부동소수점(Floating-Point)\n",
        "\n",
        "* 컴퓨터에서 소수점의 위치가 고정되지 않고 넓은 범위의 값을 근사하여 표현하는 부동소수점 방식이 있음\n",
        "* 부동소수점에 대한 개념을 모르는 경우에는 [링크](https://ko.wikipedia.org/wiki/%EB%B6%80%EB%8F%99%EC%86%8C%EC%88%98%EC%A0%90)를 참고\n",
        "* 파이썬에서는 e 기호를 이용하여 지수에 대한 표현을 사용\n",
        "* `e` 변수에 할당한 `1234e-2` 라는 표현은 $1234 \\times 10^{-2}$를 의미하고 실제 결과 값은 12.34\n",
        "* `type(e)` 함수를 통해 타입을 확인해보면 실수형\n",
        "* 마찬가지로 `123e-3`은 $123 \\times 10^{-3}$를 의미하며 결과는 0.123"
      ]
    },
    {
      "cell_type": "code",
      "metadata": {
        "id": "VflCID3tgVrO",
        "colab": {
          "base_uri": "https://localhost:8080/"
        },
        "outputId": "26dc7770-c072-479a-8feb-56a3db872582"
      },
      "source": [
        "e=1234e-2\n",
        "print(e)\n",
        "print(type(e))"
      ],
      "execution_count": 10,
      "outputs": [
        {
          "output_type": "stream",
          "name": "stdout",
          "text": [
            "12.34\n",
            "<class 'float'>\n"
          ]
        }
      ]
    },
    {
      "cell_type": "code",
      "metadata": {
        "id": "CmJN7I6EgVxT",
        "colab": {
          "base_uri": "https://localhost:8080/"
        },
        "outputId": "35b4c3fc-90c6-490a-9f5b-5a285cc5dfb4"
      },
      "source": [
        "e=123e-3\n",
        "print(e)"
      ],
      "execution_count": 11,
      "outputs": [
        {
          "output_type": "stream",
          "name": "stdout",
          "text": [
            "0.123\n"
          ]
        }
      ]
    },
    {
      "cell_type": "markdown",
      "metadata": {
        "id": "B6TXm4YJoGFF"
      },
      "source": [
        "###복소수형 자료형(Complex Type)\n",
        "\n",
        "* 복소수(complex number)는 임의의 실수 $a$, $b$에 대해 $a + bi$의 꼴로 나타내는 수를 의미\n",
        "* 여기서 $a$는 실수, $b$는 허수 부분\n",
        "* i는 제곱하여 -1이 되는 수로 허수(imaginary number) 단위라고 함\n",
        "* 복소수에 대한 개념을 모르는 경우에는 [링크](https://ko.wikipedia.org/wiki/%EB%B3%B5%EC%86%8C%EC%88%98) 참고\n",
        "* 파이썬에서는 i 대신에 j 또는 J로 표현\n",
        "* $1 + 23j$와 같이 복소수로 표현하기\n",
        "* `print()` 함수를 이용해 출력한 결과 `(1+23j)`\n",
        "* 실수부는 `c.real`로 허수부는 `c.imag`로 출력\n",
        "* 복소수의 경우에는 `type()` 함수로 타입을 살펴보면 결과는 'complex'"
      ]
    },
    {
      "cell_type": "code",
      "metadata": {
        "id": "0I7Dr_S1sp_a",
        "colab": {
          "base_uri": "https://localhost:8080/"
        },
        "outputId": "4e3215aa-2814-4796-fa84-a5a6d381ec20"
      },
      "source": [
        "c=1+23j\n",
        "print(c)\n",
        "print(c.real)\n",
        "print(c.imag)\n",
        "print(type(c))"
      ],
      "execution_count": 12,
      "outputs": [
        {
          "output_type": "stream",
          "name": "stdout",
          "text": [
            "(1+23j)\n",
            "1.0\n",
            "23.0\n",
            "<class 'complex'>\n"
          ]
        }
      ]
    },
    {
      "cell_type": "markdown",
      "metadata": {
        "id": "-KDyVNOYErfS"
      },
      "source": [
        "### 문자열 자료형(String Type)\n",
        "\n",
        "* 문자열(string)은 문자들의 집합을 의미\n",
        "* 문자열을 저장하는 변수를 문자열 변수라고 함"
      ]
    },
    {
      "cell_type": "code",
      "metadata": {
        "id": "vMbIM94dEq85",
        "colab": {
          "base_uri": "https://localhost:8080/",
          "height": 72
        },
        "outputId": "09a95326-aa3c-43fa-89b4-6e7c696a7d03"
      },
      "source": [
        "string=\"jieun\"\n",
        "print(string)\n",
        "print(type(string))\n",
        "\"더블퀘테이션 싱글퀘테이션 노매럴\""
      ],
      "execution_count": 13,
      "outputs": [
        {
          "output_type": "stream",
          "name": "stdout",
          "text": [
            "jieun\n",
            "<class 'str'>\n"
          ]
        },
        {
          "output_type": "execute_result",
          "data": {
            "text/plain": [
              "'더블퀘테이션 싱글퀘테이션 노매럴'"
            ],
            "application/vnd.google.colaboratory.intrinsic+json": {
              "type": "string"
            }
          },
          "metadata": {},
          "execution_count": 13
        }
      ]
    },
    {
      "cell_type": "markdown",
      "metadata": {
        "id": "mCkLTLt_GkqB"
      },
      "source": [
        "### 리스트 자료형(List Type)\n",
        "\n",
        "* 리스트(list)는 여러 값을 하나의 변수에 담을 수 있는 자료형\n",
        "* 대괄호 안에 여러 값을 쉽표를 구분자로 표현하여 리스트 변수 생성\n",
        "* 간단하게 리스트 생성과 출력을 위해 변수 `l` 안에 값 1, 2, 3을 넣어보자\n",
        "* 자료형을 출력해보면 'list'라는 결과 값을 가지는 것을 알 수 있음"
      ]
    },
    {
      "cell_type": "code",
      "metadata": {
        "id": "Y_KxRefG_AlV",
        "colab": {
          "base_uri": "https://localhost:8080/"
        },
        "outputId": "807ad10f-f699-4b63-d4a8-837d553a37b5"
      },
      "source": [
        "t = [1, 2, 3]\n",
        "print(t)"
      ],
      "execution_count": 14,
      "outputs": [
        {
          "output_type": "stream",
          "name": "stdout",
          "text": [
            "[1, 2, 3]\n"
          ]
        }
      ]
    },
    {
      "cell_type": "markdown",
      "metadata": {
        "id": "YyMEboAsJA_f"
      },
      "source": [
        "* 리스트 자료형은 같은 자료형이 아니라 다른 자료형을 가지는 값들도 포함하여 구성 가능\n",
        "* 숫자와 문자열이 포함된 리스트 변수 사용하기"
      ]
    },
    {
      "cell_type": "code",
      "metadata": {
        "id": "_RxMxJkRILKq",
        "colab": {
          "base_uri": "https://localhost:8080/"
        },
        "outputId": "e59e13d5-7236-4b2f-b846-cdbf9fbc1e1b"
      },
      "source": [
        "l = [1, \"one\", 2, \"two\", 3, \"three\"]\n",
        "print(l)\n",
        "print(type(l))"
      ],
      "execution_count": 15,
      "outputs": [
        {
          "output_type": "stream",
          "name": "stdout",
          "text": [
            "[1, 'one', 2, 'two', 3, 'three']\n",
            "<class 'list'>\n"
          ]
        }
      ]
    },
    {
      "cell_type": "markdown",
      "metadata": {
        "id": "NrO0CmiFJTet"
      },
      "source": [
        "### 튜플 자료형(Tuple Type)\n",
        "\n",
        "* 튜플 자료형은 리스트 자료형과 유사하지만 생성, 삭제, 수정이 불가\n",
        "* 튜플은 괄호 안에 여러 값을 쉼표로 구분하여 사용\n",
        "* 변수 `t` 안에 값 1, 2, 3을 저장하고, 변수와 변수의 타입을 출력하기"
      ]
    },
    {
      "cell_type": "code",
      "metadata": {
        "id": "_Wm3Q7k_JPaX",
        "colab": {
          "base_uri": "https://localhost:8080/"
        },
        "outputId": "ca250d8d-61aa-4e75-c534-733e4c689aaf"
      },
      "source": [
        "t = (1, 2, 3)\n",
        "print(t)\n",
        "print(type(t))"
      ],
      "execution_count": 16,
      "outputs": [
        {
          "output_type": "stream",
          "name": "stdout",
          "text": [
            "(1, 2, 3)\n",
            "<class 'tuple'>\n"
          ]
        }
      ]
    },
    {
      "cell_type": "markdown",
      "metadata": {
        "id": "xQJGvN1CVGST"
      },
      "source": [
        "### 범위 자료형(Range Type)\n",
        "\n",
        "* 불변한 숫자 시퀀스 자료형"
      ]
    },
    {
      "cell_type": "code",
      "metadata": {
        "id": "efGjqZz7VGqz",
        "colab": {
          "base_uri": "https://localhost:8080/"
        },
        "outputId": "5eb6b079-a1e0-430a-a895-7828d954cc14"
      },
      "source": [
        "r = range(10)\n",
        "print(r)\n",
        "print(type(r))"
      ],
      "execution_count": 17,
      "outputs": [
        {
          "output_type": "stream",
          "name": "stdout",
          "text": [
            "range(0, 10)\n",
            "<class 'range'>\n"
          ]
        }
      ]
    },
    {
      "cell_type": "markdown",
      "metadata": {
        "id": "cjPLDAii4Oj7"
      },
      "source": [
        "### 집합 자료형(Set Type)\n",
        "\n",
        "* 집합 자료형은 중복과 순서가 없다는 특징을 가지며 집합 처리를 쉽게할 수 있음\n",
        "* 집합은 중괄호를 이용해서 값을 쉼표로 구분하여 넣음\n",
        "* 변수 `s` 안에 값 2, 3, 1을 넣고 변수 `s`의 값과 타입을 출력한 예제\n",
        "* 변경 불가능한 집합 자료형으로 fronzenset이 있음"
      ]
    },
    {
      "cell_type": "code",
      "metadata": {
        "id": "ZvEn8hlvKDaE",
        "colab": {
          "base_uri": "https://localhost:8080/"
        },
        "outputId": "f7b42230-0b6b-42da-b728-fdac321fd654"
      },
      "source": [
        "s = {2, 3, 1}\n",
        "print(s)\n",
        "print(type(s))\n",
        "\n",
        "fs = frozenset(s)\n",
        "print(fs)\n",
        "print(type(fs))"
      ],
      "execution_count": 18,
      "outputs": [
        {
          "output_type": "stream",
          "name": "stdout",
          "text": [
            "{1, 2, 3}\n",
            "<class 'set'>\n",
            "frozenset({1, 2, 3})\n",
            "<class 'frozenset'>\n"
          ]
        }
      ]
    },
    {
      "cell_type": "markdown",
      "metadata": {
        "id": "9O8GBpoTa1HO"
      },
      "source": [
        "### 딕셔너리 자료형(Dictionary Type)\n",
        "\n",
        "* 딕셔너리 자료형은 다른 자료형과 달리 키(key)와 값(value)를 한 쌍으로 갖는 자료형\n",
        "* 변수 `d`에 키와 값을 구분자 `:`를 이용해서 쌍으로 묶어서 `1: 'One', 2: 'Two'` 형태로 넣을 수 있음"
      ]
    },
    {
      "cell_type": "code",
      "metadata": {
        "id": "9R-eJj_ja1oD",
        "colab": {
          "base_uri": "https://localhost:8080/"
        },
        "outputId": "dc408e1b-3b02-4a2a-d1b2-581b59c73a65"
      },
      "source": [
        "d = {1: 'One', 2: 'Two'}\n",
        "print(d)\n",
        "print(type(d))"
      ],
      "execution_count": 19,
      "outputs": [
        {
          "output_type": "stream",
          "name": "stdout",
          "text": [
            "{1: 'One', 2: 'Two'}\n",
            "<class 'dict'>\n"
          ]
        }
      ]
    },
    {
      "cell_type": "markdown",
      "metadata": {
        "id": "rbjYd180xOgd"
      },
      "source": [
        "### 바이트 시퀀스형(Byte Sequence Type)\n",
        "\n",
        "* 바이트 자료형은 1바이트 단위의 값을 연속적으로 저장하는 시퀀스 자료형\n",
        "* 1바이트는 8비트에 해당하며, 정수값 0 ~ 255(0x00~0xFF) 사용\n",
        "* 이진 데이터로 사용되어지거나 1바이트 문자로 고정을 위해 사용\n",
        "* 유니코드가 아닌 문자열을 사용하는 것과 유사\n",
        "* 바이트 자료형의 시퀀스 형태로 `bytearray` 자료형 사용\n",
        "* 바이트 자료형의 메모리 값의 표현으로 `memoryview` 자료형 사용\n"
      ]
    },
    {
      "cell_type": "code",
      "metadata": {
        "id": "N364DWyAuinp",
        "colab": {
          "base_uri": "https://localhost:8080/"
        },
        "outputId": "97d34bed-04ae-43ba-9aee-71af73e11da8"
      },
      "source": [
        "byte = b'\\x00'\n",
        "print(byte)\n",
        "print(type(byte))\n",
        "\n",
        "byte = b\"Hello\"\n",
        "print(byte)\n",
        "print(type(byte))\n",
        "\n",
        "ba = bytearray(byte)\n",
        "print(ba)\n",
        "print(type(ba))\n",
        "\n",
        "mv = memoryview(ba)\n",
        "print(mv)\n",
        "print(type(mv))"
      ],
      "execution_count": 20,
      "outputs": [
        {
          "output_type": "stream",
          "name": "stdout",
          "text": [
            "b'\\x00'\n",
            "<class 'bytes'>\n",
            "b'Hello'\n",
            "<class 'bytes'>\n",
            "bytearray(b'Hello')\n",
            "<class 'bytearray'>\n",
            "<memory at 0x7fe315d27e80>\n",
            "<class 'memoryview'>\n"
          ]
        }
      ]
    },
    {
      "cell_type": "markdown",
      "metadata": {
        "id": "aYEHLAuDCZcj"
      },
      "source": [
        "\n",
        "\n",
        "---\n",
        "\n"
      ]
    },
    {
      "cell_type": "markdown",
      "metadata": {
        "id": "RsSgmmjFXFAS"
      },
      "source": [
        "## 자료형 변환"
      ]
    },
    {
      "cell_type": "markdown",
      "metadata": {
        "id": "-FxX0V7IUgl9"
      },
      "source": [
        "#### bool()\n",
        "\n",
        "* `bool()` 함수는 다양한 자료형을 불리언형으로 변환\n",
        "* `0`이나 `False` 값이 아닌 경우는 모두 True로 변환"
      ]
    },
    {
      "cell_type": "code",
      "metadata": {
        "id": "levVjrt-UPGE",
        "colab": {
          "base_uri": "https://localhost:8080/"
        },
        "outputId": "b253c7d7-7f84-4f0d-c69c-8430a03d9130"
      },
      "source": [
        "print(bool(True))\n",
        "print(bool(12.34))\n",
        "print(bool(1234e-2))\n",
        "print(bool(False))"
      ],
      "execution_count": 21,
      "outputs": [
        {
          "output_type": "stream",
          "name": "stdout",
          "text": [
            "True\n",
            "True\n",
            "True\n",
            "False\n"
          ]
        }
      ]
    },
    {
      "cell_type": "markdown",
      "metadata": {
        "id": "KpA7BboIHjok"
      },
      "source": [
        "### int()\n",
        "\n",
        "* `int()` 함수는 다양한 자료형을 정수형으로 변환\n",
        "* 복소수형은 정수로 `int()` 함수를 통해 변환이 되지 않음\n",
        "* 불리언 형은 값으로 `True`와 `False`만 가지고 `int()` 함수를 통해 정수로 변환되면 `True`는 1로 `False`는 0으로 변환\n",
        "* 정수값 10과 2진수 `0b010`, 8진수 `0o130`, 16진수 `0xABC`는 모두 같은 정수형이라서 그대로 값을 유지하고, 10진수 형태로 변환되어 출력\n",
        "* 실수형을 정수형으로 변환하는 경우에는 고정소수점이든 부동소수점이든지 소수점 이하를 제외하고 변환, 예를 들어, 12.34는 12로 소수점을 제외하고 변환\n",
        "* 문자형은 기본적으로는 문자열을 10진수 변환, 예를 들어, `int('10')`은 기본 10진수로 문자열 '10'을 정수형 10으로 변환\n",
        "* 2진수, 8진수, 16진수 등의 다른 진수로 된 문자열일 경우에는 몇 진수에 해당되는지를 입력해주면 그에 맞추어 변환\n",
        "* `int('010', 2)`와 같이 문자열 '010'을 2진수라고 알려주고 변환하기 위해서 2라고 입력하고, 8진수과 16진수도 마찬가지"
      ]
    },
    {
      "cell_type": "code",
      "metadata": {
        "id": "aFXT-t5qWRvX",
        "colab": {
          "base_uri": "https://localhost:8080/"
        },
        "outputId": "78a139b1-b4d4-482c-d346-90d7ecd7d12d"
      },
      "source": [
        "print(int(True))\n",
        "print(int(12.34))\n",
        "print(int(1234e-2))\n",
        "print(int(False))\n",
        "print(int('010', 2))"
      ],
      "execution_count": 22,
      "outputs": [
        {
          "output_type": "stream",
          "name": "stdout",
          "text": [
            "1\n",
            "12\n",
            "12\n",
            "0\n",
            "2\n"
          ]
        }
      ]
    },
    {
      "cell_type": "markdown",
      "metadata": {
        "id": "l1DTbBym3gb_"
      },
      "source": [
        "### float()\n",
        "\n",
        "* `float()` 함수는 자료형을 실수형으로 변환\n",
        "* 복소수형은 변환이 되지 않고, 문자열 형태의 2진수, 8진수, 16진수도 변환이 되지 않음\n",
        "* `int()` 함수를 사용한 결과와 유사하지만, 소수점 이하 값이 포함\n",
        "* 만약 소수점 이하 값이 없다면 .0으로 변환되고, 소수점 이하 값이 있는 실수형은 동일한 값으로 변환"
      ]
    },
    {
      "cell_type": "code",
      "metadata": {
        "id": "xKGdUbHXGnrt",
        "colab": {
          "base_uri": "https://localhost:8080/"
        },
        "outputId": "0a86cedb-8647-4c48-8315-a4ba24392889"
      },
      "source": [
        "print(float(True))\n",
        "print(float(12.34))\n",
        "print(float(1234e-2))\n",
        "print(float(False))"
      ],
      "execution_count": 24,
      "outputs": [
        {
          "output_type": "stream",
          "name": "stdout",
          "text": [
            "1.0\n",
            "12.34\n",
            "12.34\n",
            "0.0\n"
          ]
        }
      ]
    },
    {
      "cell_type": "markdown",
      "metadata": {
        "id": "C4E7PyVIfjGp"
      },
      "source": [
        "### complex()\n",
        "\n",
        "* `complex()` 함수는 자료형을 복소수형으로 변환\n",
        "* 불리언형, 정수형, 실수형, 복소수형, 문자형 모두 복소수형으로 변환 가능\n",
        "* 허수가 있는 복소수형을 제외하고 다른 자료형은 허수 부분이 없어서 `OJ`로 변환"
      ]
    },
    {
      "cell_type": "code",
      "metadata": {
        "id": "2VkxG3V17t0Q",
        "colab": {
          "base_uri": "https://localhost:8080/"
        },
        "outputId": "38702418-f834-43d7-806a-a0f7bffd29c2"
      },
      "source": [
        "complex(True)\n",
        "complex(12.34)\n",
        "complex(1234e-2)\n",
        "complex(False)"
      ],
      "execution_count": 25,
      "outputs": [
        {
          "output_type": "execute_result",
          "data": {
            "text/plain": [
              "0j"
            ]
          },
          "metadata": {},
          "execution_count": 25
        }
      ]
    },
    {
      "cell_type": "markdown",
      "metadata": {
        "id": "4B6kUxK5dqaT"
      },
      "source": [
        "### str()\n",
        "\n",
        "* `str()` 함수는 파이썬의 모든 자료형을 문자열로 변환\n",
        "* 자료형의 값을 그대로 문자열 형태로 변환\n"
      ]
    },
    {
      "cell_type": "code",
      "metadata": {
        "id": "AWnqw88hfotE",
        "colab": {
          "base_uri": "https://localhost:8080/",
          "height": 35
        },
        "outputId": "4dfba99b-5751-463e-c37b-0efe90b786b3"
      },
      "source": [
        "str(True)\n",
        "str(12.34)\n",
        "str(1234e-2)\n",
        "str(False)\n",
        "str('10')\n",
        "str({1,'one', 2, 'two'})"
      ],
      "execution_count": 26,
      "outputs": [
        {
          "output_type": "execute_result",
          "data": {
            "text/plain": [
              "\"{1, 2, 'two', 'one'}\""
            ],
            "application/vnd.google.colaboratory.intrinsic+json": {
              "type": "string"
            }
          },
          "metadata": {},
          "execution_count": 26
        }
      ]
    },
    {
      "cell_type": "markdown",
      "metadata": {
        "id": "XU9RZbXykzXt"
      },
      "source": [
        "### eval()\n",
        "\n",
        "* `eval()` 함수는 문자열에 포함된 수식을 계산하여 나온 결과를 반환\n",
        "* '1 + 2'라는 문자열에 대해서 그대로 출력하는 것과 달리 계산된 결과 값은 3을 출력\n",
        "* 그 밖에도 -, *, /와 같은 여러 수식들에 대해서도 계산 가능"
      ]
    },
    {
      "cell_type": "code",
      "metadata": {
        "id": "m3Fh1-2leEru",
        "colab": {
          "base_uri": "https://localhost:8080/"
        },
        "outputId": "333cb8b2-ebe5-4ea5-abb8-28bfb610286d"
      },
      "source": [
        "\"1+2\"\n",
        "eval(\"1+2\")\n",
        "eval(\"10+20-30\")"
      ],
      "execution_count": 27,
      "outputs": [
        {
          "output_type": "execute_result",
          "data": {
            "text/plain": [
              "0"
            ]
          },
          "metadata": {},
          "execution_count": 27
        }
      ]
    },
    {
      "cell_type": "markdown",
      "metadata": {
        "id": "nhChZjK3n9KE"
      },
      "source": [
        "### tuple()\n",
        "\n",
        "* `tuple()` 함수는 문자열, 리스트, 튜플 등의 자료형을 튜플 자료형으로 변환\n",
        "* 문자열 `'Suan'`을 문자 단위로 구분하여 튜플 자료형으로 변환\n",
        "* 리스트 자료형 `[1, 2, 3]`이나 튜플 자료형 `(1, 2, 3)`도 튜플 자료형으로 `(1, 2, 3)`으로 변환"
      ]
    },
    {
      "cell_type": "code",
      "metadata": {
        "id": "--4Db23Glh-5",
        "colab": {
          "base_uri": "https://localhost:8080/"
        },
        "outputId": "e918b40c-2e2d-43f2-add6-a5fcabc72d3f"
      },
      "source": [
        "tuple('jieun')"
      ],
      "execution_count": 28,
      "outputs": [
        {
          "output_type": "execute_result",
          "data": {
            "text/plain": [
              "('j', 'i', 'e', 'u', 'n')"
            ]
          },
          "metadata": {},
          "execution_count": 28
        }
      ]
    },
    {
      "cell_type": "markdown",
      "metadata": {
        "id": "PStvlrGiaphP"
      },
      "source": [
        "### list()\n",
        "\n",
        "* `list()` 함수는 문자열, 리스트, 튜플 등의 자료형을 리스트 자료형으로 변환\n",
        "* 문자열 `'Suan'`, 리스트 `[1, 2, 3]`, 튜플 `(1, 2, 3)`에 대해서 리스트 자료형으로 변환"
      ]
    },
    {
      "cell_type": "code",
      "metadata": {
        "id": "OGUiqkOMaova",
        "colab": {
          "base_uri": "https://localhost:8080/"
        },
        "outputId": "87cb51cc-a086-40bf-adb4-a0bea953602d"
      },
      "source": [
        "list('jieun')"
      ],
      "execution_count": 29,
      "outputs": [
        {
          "output_type": "execute_result",
          "data": {
            "text/plain": [
              "['j', 'i', 'e', 'u', 'n']"
            ]
          },
          "metadata": {},
          "execution_count": 29
        }
      ]
    },
    {
      "cell_type": "markdown",
      "metadata": {
        "id": "J0kr_j2KatLD"
      },
      "source": [
        "### set()\n",
        "\n",
        "* `set()` 함수는 문자열, 리스트, 튜플, 집합, 딕셔너리 자료형을 집합 자료형으로 변환\n",
        "* 집합의 특성답게 요소에 대해서 순서를 고려하지 않고 변환\n",
        "* 리스트, 튜플, 집합 자료형도 집합 형태로 변환이 되며, 딕셔너리 자료형도 집합으로 변환\n",
        "* 딕셔너리 자료형은 키와 값으로 구성된 구조에서 키 값에 해당하는 것만 집합으로 변환\n"
      ]
    },
    {
      "cell_type": "code",
      "metadata": {
        "id": "zW0-GhJiavlg",
        "colab": {
          "base_uri": "https://localhost:8080/"
        },
        "outputId": "14b370e1-fcbb-4652-abd7-78d356f1cd81"
      },
      "source": [
        "print(set('jieun'))\n",
        "print(set([1, 2, 3]))\n",
        "print(set({1: 'one'}))"
      ],
      "execution_count": 30,
      "outputs": [
        {
          "output_type": "stream",
          "name": "stdout",
          "text": [
            "{'u', 'j', 'e', 'i', 'n'}\n",
            "{1, 2, 3}\n",
            "{1}\n"
          ]
        }
      ]
    },
    {
      "cell_type": "markdown",
      "metadata": {
        "id": "O3OowqxXayn7"
      },
      "source": [
        "### frozenset()\n",
        "\n",
        "* `frozenset()` 함수는 문자열을 고정 집합 형태로 변환\n",
        "* `set()` 함수는 집합의 값을 추가 및 제거 등이 가능\n",
        "* `frozenset()` 함수는 수정 불가능한 집합 자료형"
      ]
    },
    {
      "cell_type": "code",
      "metadata": {
        "id": "VLwYuHvha0ef",
        "colab": {
          "base_uri": "https://localhost:8080/"
        },
        "outputId": "c6293e04-bef7-4e6f-e68f-8fd26ba67318"
      },
      "source": [
        "frozenset('jieun')"
      ],
      "execution_count": 31,
      "outputs": [
        {
          "output_type": "execute_result",
          "data": {
            "text/plain": [
              "frozenset({'e', 'i', 'j', 'n', 'u'})"
            ]
          },
          "metadata": {},
          "execution_count": 31
        }
      ]
    },
    {
      "cell_type": "markdown",
      "metadata": {
        "id": "c5caSaibawSN"
      },
      "source": [
        "### dict()\n",
        "\n",
        "* `dict()` 함수는 딕셔너리 자료형으로 변환하는 역할\n",
        "* (키: 값)으로 구성된 튜플의 시퀀스 형태로 값을 가짐\n"
      ]
    },
    {
      "cell_type": "code",
      "metadata": {
        "id": "60x8BRJFayPO",
        "colab": {
          "base_uri": "https://localhost:8080/"
        },
        "outputId": "4d7ec685-897e-46ce-d57e-8c2efdd88d31"
      },
      "source": [
        "dict({1: 'one'})"
      ],
      "execution_count": 32,
      "outputs": [
        {
          "output_type": "execute_result",
          "data": {
            "text/plain": [
              "{1: 'one'}"
            ]
          },
          "metadata": {},
          "execution_count": 32
        }
      ]
    },
    {
      "cell_type": "markdown",
      "metadata": {
        "id": "2ACrynyca1DD"
      },
      "source": [
        "### chr()\n",
        "\n",
        "* `chr()` 함수는 정수를 문자로 변환\n",
        "* 컴퓨터에서는 문자를 처리하기 위해 각 문자마다 특정 정수값으로 매핑: ASCII(American Standard Code for Information Interchange)\n",
        "\n",
        "* `chr()` 함수는 ASCII 기준에 따라서 정수값에 해당하는 문자를 나타냄\n",
        "* 예를 들어, ASCII에서 정수 값 97은 문자 a에 매핑되어 `chr(97)`의 결과 값은 문자 a"
      ]
    },
    {
      "cell_type": "code",
      "metadata": {
        "id": "4IozRAYUa27n",
        "colab": {
          "base_uri": "https://localhost:8080/",
          "height": 35
        },
        "outputId": "20c1587f-42e6-4630-969f-02170ada3d7a"
      },
      "source": [
        "chr(97)"
      ],
      "execution_count": 33,
      "outputs": [
        {
          "output_type": "execute_result",
          "data": {
            "text/plain": [
              "'a'"
            ],
            "application/vnd.google.colaboratory.intrinsic+json": {
              "type": "string"
            }
          },
          "metadata": {},
          "execution_count": 33
        }
      ]
    },
    {
      "cell_type": "markdown",
      "metadata": {
        "id": "pqxx-K67a3Vf"
      },
      "source": [
        "### ord()\n",
        "\n",
        "* `ord()` 함수는 `chr()` 함수와 반대로 문자를 정수 값으로 변환\n",
        "* ASCII에 맞춰서 문자 'a'에 해당하는 정수 값인 97을 출력하기"
      ]
    },
    {
      "cell_type": "code",
      "metadata": {
        "id": "Hucvh-qxa5iG",
        "colab": {
          "base_uri": "https://localhost:8080/"
        },
        "outputId": "87b70aae-7a60-47ce-cfee-f46d6f3bc8e2"
      },
      "source": [
        "ord('a')"
      ],
      "execution_count": 34,
      "outputs": [
        {
          "output_type": "execute_result",
          "data": {
            "text/plain": [
              "97"
            ]
          },
          "metadata": {},
          "execution_count": 34
        }
      ]
    },
    {
      "cell_type": "markdown",
      "metadata": {
        "id": "0TDNXL3saLad"
      },
      "source": [
        "### bin()\n",
        "\n",
        "* `bin()` 함수는 정수를 2진수 문자열로 변환\n",
        "* 자료형을 2진수 표기인 '0b'가 붙은 형태의 문자열로 변환\n",
        "* `bin()` 함수로 `True`는 `0b1`로 출력하고, `False`는 `0b0`으로 출력하기\n",
        "* 10진수, 2진수, 8진수, 16진수 정수형도 2진수로 변환되어 출력"
      ]
    },
    {
      "cell_type": "code",
      "metadata": {
        "id": "Ia5W7GjVaNSO",
        "colab": {
          "base_uri": "https://localhost:8080/",
          "height": 110
        },
        "outputId": "ad90b817-85c8-4fea-84d7-f4ec18864d9a"
      },
      "source": [
        "bin'True'\n",
        "bin('False')\n",
        "bin(0b0)"
      ],
      "execution_count": 35,
      "outputs": [
        {
          "output_type": "error",
          "ename": "SyntaxError",
          "evalue": "invalid syntax (<ipython-input-35-30b63f303e13>, line 1)",
          "traceback": [
            "\u001b[0;36m  File \u001b[0;32m\"<ipython-input-35-30b63f303e13>\"\u001b[0;36m, line \u001b[0;32m1\u001b[0m\n\u001b[0;31m    bin'True'\u001b[0m\n\u001b[0m       ^\u001b[0m\n\u001b[0;31mSyntaxError\u001b[0m\u001b[0;31m:\u001b[0m invalid syntax\n"
          ]
        }
      ]
    },
    {
      "cell_type": "markdown",
      "metadata": {
        "id": "GhKuz0R7a8nh"
      },
      "source": [
        "### oct()\n",
        "\n",
        "* `oct()` 함수는 정수를 8진수 문자열로 변환\n",
        "* 불리언형, 정수형 등의 자료형을 8진수 표기인 '0o'가 붙은 형태의 문자열로 변환\n",
        "* `oct()` 함수를 이용해 `True`는 `0o1`로 출력되고, `False`는 `0o0`으로 출력하기\n",
        "* 10진수, 2진수, 8진수, 16진수 정수형도 8진수로 변환되어 출력"
      ]
    },
    {
      "cell_type": "code",
      "metadata": {
        "id": "hLc4zMe7a-L0",
        "colab": {
          "base_uri": "https://localhost:8080/",
          "height": 110
        },
        "outputId": "8f820313-d57f-4537-a1a1-83a25a37ed6a"
      },
      "source": [
        "print(oct'True')"
      ],
      "execution_count": 36,
      "outputs": [
        {
          "output_type": "error",
          "ename": "SyntaxError",
          "evalue": "invalid syntax (<ipython-input-36-f434c1c05dfc>, line 1)",
          "traceback": [
            "\u001b[0;36m  File \u001b[0;32m\"<ipython-input-36-f434c1c05dfc>\"\u001b[0;36m, line \u001b[0;32m1\u001b[0m\n\u001b[0;31m    print(oct'True')\u001b[0m\n\u001b[0m             ^\u001b[0m\n\u001b[0;31mSyntaxError\u001b[0m\u001b[0;31m:\u001b[0m invalid syntax\n"
          ]
        }
      ]
    },
    {
      "cell_type": "markdown",
      "metadata": {
        "id": "_fRnnZfPa59a"
      },
      "source": [
        "### hex()\n",
        "\n",
        "* `hex()` 함수는 정수를 16진수 문자열로 변환\n",
        "* 주어진 자료형을 16진수 표기인 '0x'가 붙은 16진수 형태의 문자열로 변환\n",
        "* 불리언형과 정수형 모두 16진수 표기의 문자열로 변환하기\n"
      ]
    },
    {
      "cell_type": "code",
      "metadata": {
        "id": "w_hQsUVTa8Mi"
      },
      "source": [],
      "execution_count": null,
      "outputs": []
    },
    {
      "cell_type": "markdown",
      "metadata": {
        "id": "algkb-Zv_v3y"
      },
      "source": [
        "### bytes()\n",
        "\n",
        "* `bytes()` 함수는 자료형을 바이트형으로 변환\n",
        "* 객체를 바이트 객체로 변환"
      ]
    },
    {
      "cell_type": "code",
      "metadata": {
        "id": "fBuAnYJQ_wp0"
      },
      "source": [],
      "execution_count": null,
      "outputs": []
    },
    {
      "cell_type": "markdown",
      "metadata": {
        "id": "6Ow3gwEoBhLt"
      },
      "source": [
        "### bytearray()\n",
        "\n",
        "* `bytearray()` 함수는 자료형을 변경가능한 바이트형으로 변환"
      ]
    },
    {
      "cell_type": "code",
      "metadata": {
        "id": "g81YWjlACBuI"
      },
      "source": [],
      "execution_count": null,
      "outputs": []
    },
    {
      "cell_type": "markdown",
      "metadata": {
        "id": "aP84dGJOEDpt"
      },
      "source": [
        "### memoryview()\n",
        "\n",
        "* 바이트 자료형을 메모리의 이진 데이터로 변환한 자료형"
      ]
    },
    {
      "cell_type": "code",
      "metadata": {
        "id": "MxbONoOsEEKH"
      },
      "source": [],
      "execution_count": null,
      "outputs": []
    },
    {
      "cell_type": "markdown",
      "metadata": {
        "id": "TUtif65eQ4kN"
      },
      "source": [
        "## 자료형 계산"
      ]
    },
    {
      "cell_type": "markdown",
      "metadata": {
        "id": "C3IjTWeSRHWa"
      },
      "source": [
        "### min()\n",
        "\n",
        "* 입력된 값들 중에서 가장 작은 값을 반환하는 함수"
      ]
    },
    {
      "cell_type": "code",
      "metadata": {
        "id": "MCgOSP0qRKfn"
      },
      "source": [],
      "execution_count": null,
      "outputs": []
    },
    {
      "cell_type": "markdown",
      "metadata": {
        "id": "cMVIBtqRRvg0"
      },
      "source": [
        "### max()\n",
        "\n",
        "* 입력된 값들 중에서 가장 큰 값을 반환하는 함수"
      ]
    },
    {
      "cell_type": "code",
      "metadata": {
        "id": "GZfgc91LRzda"
      },
      "source": [],
      "execution_count": null,
      "outputs": []
    },
    {
      "cell_type": "markdown",
      "metadata": {
        "id": "OcnIj5EjR_JJ"
      },
      "source": [
        "### sum()\n",
        "\n",
        "* 입력된 값들의 전체 합을 반환"
      ]
    },
    {
      "cell_type": "code",
      "metadata": {
        "id": "FRnME2kiSETx"
      },
      "source": [],
      "execution_count": null,
      "outputs": []
    },
    {
      "cell_type": "markdown",
      "metadata": {
        "id": "6t8L1aUkSfuG"
      },
      "source": [
        "### divmod()\n",
        "\n",
        "* 나눈 값과 나머지 값을 쌍으로 반환\n",
        "* `(a // b, a % b)`와 동일한 값"
      ]
    },
    {
      "cell_type": "code",
      "metadata": {
        "id": "0tEUJTJ5Smt_"
      },
      "source": [],
      "execution_count": null,
      "outputs": []
    },
    {
      "cell_type": "markdown",
      "metadata": {
        "id": "bA34pYq5TOBo"
      },
      "source": [
        "### abs()\n",
        "\n",
        "* 절대값 $|x|$으로 반환"
      ]
    },
    {
      "cell_type": "code",
      "metadata": {
        "id": "k9Tk7j77TRdM"
      },
      "source": [],
      "execution_count": null,
      "outputs": []
    },
    {
      "cell_type": "markdown",
      "metadata": {
        "id": "um3henXBThud"
      },
      "source": [
        "### pow()\n",
        "\n",
        "* 지수승의 값 $a^b$으로 반환"
      ]
    },
    {
      "cell_type": "code",
      "metadata": {
        "id": "leZovwlVT-Yl"
      },
      "source": [],
      "execution_count": null,
      "outputs": []
    },
    {
      "cell_type": "markdown",
      "metadata": {
        "id": "W4b6TVEIU2gw"
      },
      "source": [
        "### len(s)\n",
        "\n",
        "* 다양한 시퀀스의 갯수를 반환"
      ]
    },
    {
      "cell_type": "code",
      "metadata": {
        "id": "NIzuE0EVU6yC"
      },
      "source": [],
      "execution_count": null,
      "outputs": []
    },
    {
      "cell_type": "markdown",
      "metadata": {
        "id": "Me-tvSeTVF3I"
      },
      "source": [
        "### round()\n",
        "\n",
        "* 소수점 뒤를 반올림한 값을 반환"
      ]
    },
    {
      "cell_type": "code",
      "metadata": {
        "id": "l1m2_f7dVJky"
      },
      "source": [],
      "execution_count": null,
      "outputs": []
    },
    {
      "cell_type": "markdown",
      "metadata": {
        "id": "F39_FXWHVVKh"
      },
      "source": [
        "### all()\n",
        "\n",
        "* 모든 값이 `True` 이거나 비어있을 때 `True` 반환"
      ]
    },
    {
      "cell_type": "code",
      "metadata": {
        "id": "ndPHacrvVbeS"
      },
      "source": [],
      "execution_count": null,
      "outputs": []
    },
    {
      "cell_type": "markdown",
      "metadata": {
        "id": "fanBFnO1V0Zu"
      },
      "source": [
        "### any()\n",
        "\n",
        "* 어떤 값이 `True` 이면 `True` 반환\n",
        "* 값이 비어있으면 `False` 반환"
      ]
    },
    {
      "cell_type": "code",
      "metadata": {
        "id": "oA6TIhIoV5gF"
      },
      "source": [],
      "execution_count": null,
      "outputs": []
    },
    {
      "cell_type": "markdown",
      "metadata": {
        "id": "D_yWm1gBEo4p"
      },
      "source": [
        "\n",
        "\n",
        "---\n",
        "\n"
      ]
    },
    {
      "cell_type": "markdown",
      "metadata": {
        "id": "mypjHsFSEtLz"
      },
      "source": [
        "# 연산자(Operators)\n",
        "\n"
      ]
    },
    {
      "cell_type": "markdown",
      "metadata": {
        "id": "5vw1RQEmFpTn"
      },
      "source": [
        "## 산술 연산자(Arithmetic Operators)\n",
        "\n"
      ]
    },
    {
      "cell_type": "code",
      "metadata": {
        "id": "iaozGCpH-Sze",
        "colab": {
          "base_uri": "https://localhost:8080/"
        },
        "outputId": "9ab5e1d7-2930-41c3-c2f0-52d0eb366907"
      },
      "source": [
        "a=6\n",
        "b=4\n",
        "print(a+b)\n",
        "print(a-b)\n",
        "print(a*b)\n",
        "print(a/b)\n",
        "print(a%b)\n",
        "print(a**b)\n",
        "print(a//b)"
      ],
      "execution_count": 37,
      "outputs": [
        {
          "output_type": "stream",
          "name": "stdout",
          "text": [
            "10\n",
            "2\n",
            "24\n",
            "1.5\n",
            "2\n",
            "1296\n",
            "1\n"
          ]
        }
      ]
    },
    {
      "cell_type": "markdown",
      "metadata": {
        "id": "BbNJjYvkSzyQ"
      },
      "source": [
        "## 비교 연산자(Comparison Operators)\n",
        "\n"
      ]
    },
    {
      "cell_type": "code",
      "metadata": {
        "id": "EZELCQFgPmgI",
        "colab": {
          "base_uri": "https://localhost:8080/",
          "height": 257
        },
        "outputId": "d78468de-074e-4b02-cbe5-9dd621bd3405"
      },
      "source": [
        "a, b=6, 4\n",
        "print(a==b)\n",
        "print(a!=b)\n",
        "print(a>b)\n",
        "print(a=b)\n",
        "print(a<=b)"
      ],
      "execution_count": 38,
      "outputs": [
        {
          "output_type": "stream",
          "name": "stdout",
          "text": [
            "False\n",
            "True\n",
            "True\n"
          ]
        },
        {
          "output_type": "error",
          "ename": "TypeError",
          "evalue": "'a' is an invalid keyword argument for print()",
          "traceback": [
            "\u001b[0;31m---------------------------------------------------------------------------\u001b[0m",
            "\u001b[0;31mTypeError\u001b[0m                                 Traceback (most recent call last)",
            "\u001b[0;32m<ipython-input-38-60283489b0aa>\u001b[0m in \u001b[0;36m<cell line: 5>\u001b[0;34m()\u001b[0m\n\u001b[1;32m      3\u001b[0m \u001b[0mprint\u001b[0m\u001b[0;34m(\u001b[0m\u001b[0ma\u001b[0m\u001b[0;34m!=\u001b[0m\u001b[0mb\u001b[0m\u001b[0;34m)\u001b[0m\u001b[0;34m\u001b[0m\u001b[0;34m\u001b[0m\u001b[0m\n\u001b[1;32m      4\u001b[0m \u001b[0mprint\u001b[0m\u001b[0;34m(\u001b[0m\u001b[0ma\u001b[0m\u001b[0;34m>\u001b[0m\u001b[0mb\u001b[0m\u001b[0;34m)\u001b[0m\u001b[0;34m\u001b[0m\u001b[0;34m\u001b[0m\u001b[0m\n\u001b[0;32m----> 5\u001b[0;31m \u001b[0mprint\u001b[0m\u001b[0;34m(\u001b[0m\u001b[0ma\u001b[0m\u001b[0;34m=\u001b[0m\u001b[0mb\u001b[0m\u001b[0;34m)\u001b[0m\u001b[0;34m\u001b[0m\u001b[0;34m\u001b[0m\u001b[0m\n\u001b[0m\u001b[1;32m      6\u001b[0m \u001b[0mprint\u001b[0m\u001b[0;34m(\u001b[0m\u001b[0ma\u001b[0m\u001b[0;34m<=\u001b[0m\u001b[0mb\u001b[0m\u001b[0;34m)\u001b[0m\u001b[0;34m\u001b[0m\u001b[0;34m\u001b[0m\u001b[0m\n",
            "\u001b[0;31mTypeError\u001b[0m: 'a' is an invalid keyword argument for print()"
          ]
        }
      ]
    },
    {
      "cell_type": "markdown",
      "metadata": {
        "id": "aKigU9vxWMPE"
      },
      "source": [
        "## 할당 연산자(Assignment Operators)\n",
        "\n"
      ]
    },
    {
      "cell_type": "code",
      "metadata": {
        "id": "8kQmBvcgVZag",
        "colab": {
          "base_uri": "https://localhost:8080/"
        },
        "outputId": "56190355-7218-425f-de68-5b8544e6b046"
      },
      "source": [
        "a, b=6, 4\n",
        "print(a, b)\n",
        "a+=b\n",
        "print(a)\n",
        "a-=b\n",
        "print(a)\n",
        "a*=b\n",
        "print(a)\n",
        "a/=b\n",
        "print(a)\n",
        "a%=b\n",
        "print(a)\n",
        "a**=b\n",
        "print(a)\n",
        "a//=b\n",
        "print(a)\n",
        ""
      ],
      "execution_count": 39,
      "outputs": [
        {
          "output_type": "stream",
          "name": "stdout",
          "text": [
            "6 4\n",
            "10\n",
            "6\n",
            "24\n",
            "6.0\n",
            "2.0\n",
            "16.0\n",
            "4.0\n"
          ]
        }
      ]
    },
    {
      "cell_type": "markdown",
      "metadata": {
        "id": "fEbvvt68ZEkR"
      },
      "source": [
        "## 비트 연산자(Bitwise Operators)\n"
      ]
    },
    {
      "cell_type": "code",
      "metadata": {
        "id": "p7Py0jU6Xb-Y",
        "colab": {
          "base_uri": "https://localhost:8080/",
          "height": 110
        },
        "outputId": "f1b8f9b1-12bf-4afa-a032-1a15d343e365"
      },
      "source": [
        "a, b=6, 4\n",
        "print(bin(a))\n",
        "print(bin(b))\n",
        "print(a&b, bin(a&b))\n",
        "print(a|b, bin(a|b))\n",
        "print(a^b, bin(a^b))\n",
        "print(~a, bin(~a))\n",
        "print(a<>b, bin(a>>b))"
      ],
      "execution_count": 40,
      "outputs": [
        {
          "output_type": "error",
          "ename": "SyntaxError",
          "evalue": "invalid syntax (<ipython-input-40-499a7d7a5d26>, line 8)",
          "traceback": [
            "\u001b[0;36m  File \u001b[0;32m\"<ipython-input-40-499a7d7a5d26>\"\u001b[0;36m, line \u001b[0;32m8\u001b[0m\n\u001b[0;31m    print(a<>b, bin(a>>b))\u001b[0m\n\u001b[0m           ^\u001b[0m\n\u001b[0;31mSyntaxError\u001b[0m\u001b[0;31m:\u001b[0m invalid syntax\n"
          ]
        }
      ]
    },
    {
      "cell_type": "markdown",
      "metadata": {
        "id": "mTlDlBfHb56x"
      },
      "source": [
        "## 논리 연산자(Logical Operators)\n"
      ]
    },
    {
      "cell_type": "code",
      "metadata": {
        "id": "h_cAKWdLbRrT",
        "colab": {
          "base_uri": "https://localhost:8080/"
        },
        "outputId": "0316f617-8fb6-4d32-d4dc-4c76a7416234"
      },
      "source": [
        "print(True and True)\n",
        "print(True and False)\n",
        "print(True or False)\n",
        "print(not True)\n",
        "print(not False)\n",
        "print(not(True and False))"
      ],
      "execution_count": 41,
      "outputs": [
        {
          "output_type": "stream",
          "name": "stdout",
          "text": [
            "True\n",
            "False\n",
            "True\n",
            "False\n",
            "True\n",
            "True\n"
          ]
        }
      ]
    },
    {
      "cell_type": "markdown",
      "metadata": {
        "id": "7YkZ_IM1cqO_"
      },
      "source": [
        "## 멤버 연산자(Membership Operators)\n"
      ]
    },
    {
      "cell_type": "code",
      "metadata": {
        "id": "7ZOrVkhMcfUE",
        "colab": {
          "base_uri": "https://localhost:8080/"
        },
        "outputId": "2ff132fc-2de2-447a-9afd-0af2826baa9f"
      },
      "source": [
        "a, b= 6, 4\n",
        "l=[2, 4, 8]\n",
        "print(a in l)\n",
        "print(b in l)\n",
        "print(a not in l)\n",
        "print(b not in l)"
      ],
      "execution_count": 42,
      "outputs": [
        {
          "output_type": "stream",
          "name": "stdout",
          "text": [
            "False\n",
            "True\n",
            "True\n",
            "False\n"
          ]
        }
      ]
    },
    {
      "cell_type": "markdown",
      "metadata": {
        "id": "rolPOjSYdQvA"
      },
      "source": [
        "## 식별 연산자(Identity Operators)\n"
      ]
    },
    {
      "cell_type": "code",
      "metadata": {
        "id": "tZ5C_GI_dChN",
        "colab": {
          "base_uri": "https://localhost:8080/"
        },
        "outputId": "9ae49705-4c0e-4486-d8f3-b35ff0cf18bd"
      },
      "source": [
        "a, b= 6, 4\n",
        "print(a is b)\n",
        "print(b is not b)\n",
        "a, b=5, 5\n",
        "print(a is b)\n",
        "print(a is not b)"
      ],
      "execution_count": 43,
      "outputs": [
        {
          "output_type": "stream",
          "name": "stdout",
          "text": [
            "False\n",
            "False\n",
            "True\n",
            "False\n"
          ]
        }
      ]
    },
    {
      "cell_type": "code",
      "source": [],
      "metadata": {
        "id": "bPhR__mONZpV"
      },
      "execution_count": null,
      "outputs": []
    }
  ]
}